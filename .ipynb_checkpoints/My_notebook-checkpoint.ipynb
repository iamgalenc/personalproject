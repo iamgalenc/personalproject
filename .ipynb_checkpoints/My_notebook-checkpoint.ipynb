{
 "cells": [
  {
   "cell_type": "markdown",
   "metadata": {},
   "source": [
    "# My personal python notebook\n",
    "This is my personal python notebook"
   ]
  },
  {
   "cell_type": "markdown",
   "metadata": {},
   "source": [
    "1. Print function"
   ]
  },
  {
   "cell_type": "code",
   "execution_count": null,
   "metadata": {},
   "outputs": [],
   "source": [
    "print(\"Hello, world!\")\n",
    "print(\"-------\")\n",
    "print(\"Hello\\nWorld\")\n",
    "print(\"-------\")\n",
    "print(\"\"\"hello \n",
    "      my\n",
    "      world\"\"\")"
   ]
  },
  {
   "cell_type": "markdown",
   "metadata": {},
   "source": [
    "2. Variables and print"
   ]
  },
  {
   "cell_type": "code",
   "execution_count": null,
   "metadata": {},
   "outputs": [],
   "source": [
    "Item = \"Banana\"\n",
    "item = \"apple\"\n",
    "item_name = \"channel orange\"\n",
    "artist = \"frank ocean\"\n",
    "\n",
    "print(item, Item)\n",
    "print(\"my fav album is \" + item_name + \" by \" + artist)"
   ]
  },
  {
   "cell_type": "markdown",
   "metadata": {},
   "source": [
    "3. Data types"
   ]
  },
  {
   "cell_type": "code",
   "execution_count": null,
   "metadata": {},
   "outputs": [],
   "source": [
    "diskrit = 2023 #integer int()\n",
    "kontinu = 3.14 #float float()\n",
    "strings = \"tahun\" #string str()\n",
    "is_confirmed = False #boolean bool()\n",
    "album_list = [\"Blonde\", \"Channel Orange\", \"nostalgia, ULTRA\"] #list\n",
    "\n",
    "print(type(diskrit))\n",
    "print(diskrit) \n",
    "print(type(kontinu))\n",
    "print(kontinu)\n",
    "print(type(strings))\n",
    "print(strings)\n",
    "print(type(is_confirmed))\n",
    "print(is_confirmed)\n",
    "print(type(album_list))\n",
    "print(album_list)"
   ]
  },
  {
   "cell_type": "markdown",
   "metadata": {},
   "source": [
    "4. Converting data types"
   ]
  },
  {
   "cell_type": "code",
   "execution_count": null,
   "metadata": {},
   "outputs": [],
   "source": [
    "tahun_integer = 2023\n",
    "nama = \"abdul komeng\"\n",
    "angka_string = \"17\"\n",
    "angka_float = 3.25\n",
    "\n",
    "print(nama + str(tahun_integer))\n",
    "print(int(angka_string) + tahun_integer)\n",
    "print(float(angka_string) + tahun_integer + angka_float)"
   ]
  },
  {
   "cell_type": "markdown",
   "metadata": {},
   "source": [
    "5. Math operation in Python"
   ]
  },
  {
   "cell_type": "code",
   "execution_count": null,
   "metadata": {},
   "outputs": [],
   "source": [
    "#Operasi matematika\n",
    "a = 10\n",
    "b = 5\n",
    "\n",
    "penjumlahan = a + b\n",
    "pengurangan = a - b\n",
    "perkalian = a * b\n",
    "pembagian = a/b\n",
    "pangkat = a**b\n",
    "\n",
    "print(penjumlahan)\n",
    "print(pengurangan)\n",
    "print(perkalian)\n",
    "print(pembagian)\n",
    "print(pangkat)\n"
   ]
  },
  {
   "cell_type": "markdown",
   "metadata": {},
   "source": [
    "6. Math comparasion in Python"
   ]
  },
  {
   "cell_type": "code",
   "execution_count": null,
   "metadata": {},
   "outputs": [],
   "source": [
    "#Komparasi matematika\n",
    "a = 10\n",
    "b = 5\n",
    "\n",
    "print(4 == b)\n",
    "print(6 != b)\n",
    "print(4 >= b)\n",
    "print(5 <= b) \n",
    "print(a > b)\n",
    "print(a < b)"
   ]
  },
  {
   "cell_type": "markdown",
   "metadata": {},
   "source": [
    "6.5. Math operator in Python"
   ]
  },
  {
   "cell_type": "code",
   "execution_count": null,
   "metadata": {},
   "outputs": [],
   "source": [
    "angka = 2\n",
    "angka += 3\n",
    "print(angka)\n",
    "\n",
    "angka_1 = 35\n",
    "angka_1 -= 5\n",
    "print(angka_1)\n",
    "#operator sebelum sama dengan adalah operator yang sama dengan operator matematika dasar (perkalian, pembagian, dll)\n",
    "\n"
   ]
  },
  {
   "cell_type": "markdown",
   "metadata": {},
   "source": [
    "7. Logic statement"
   ]
  },
  {
   "cell_type": "code",
   "execution_count": null,
   "metadata": {},
   "outputs": [],
   "source": [
    "age = int(input(\"masukkan umur anda: \"))\n",
    "isHappy = True\n",
    "\n",
    "if age > 16:\n",
    "    print(\"kamu sudah dewasa!\")\n",
    "elif age == 18:\n",
    "    print(\"kamu sudah mau tua\")\n",
    "else:\n",
    "    print(\"kamu masih muda\")\n",
    "    \n",
    "if isHappy:\n",
    "    print(\"kamu bahagia!\")\n",
    "else:\n",
    "    print(\"kamu kenapa tidak bahagia?\")"
   ]
  },
  {
   "cell_type": "markdown",
   "metadata": {},
   "source": [
    "8. For Loops"
   ]
  },
  {
   "cell_type": "code",
   "execution_count": null,
   "metadata": {},
   "outputs": [],
   "source": [
    "#komputer selalu mengawali angka dengan nomor 0\n",
    "#jika tidak ingin memulai angka 0, maka tambahkan i + 1 pada kurung print\n",
    "for i in range(5):\n",
    "    print(\"hello\", i)\n",
    "    print(i + 1)\n",
    "\n",
    "\n",
    "#range atau jarak\n",
    "print(range(5))\n",
    "\n",
    "#loops bisa digunakan untuk list\n",
    "name_list = [\"anjay\", \"anjir\", \"ajur\"]\n",
    "for name in name_list:\n",
    "    print(name)\n"
   ]
  },
  {
   "cell_type": "code",
   "execution_count": null,
   "metadata": {},
   "outputs": [],
   "source": [
    "#mengeluarkan seluruh isi variabel string\n",
    "for x in \"halo\":\n",
    "    print(x)"
   ]
  },
  {
   "cell_type": "markdown",
   "metadata": {},
   "source": [
    "9. While loops"
   ]
  },
  {
   "cell_type": "code",
   "execution_count": null,
   "metadata": {},
   "outputs": [],
   "source": [
    "#infinity loops\n",
    "while True:\n",
    "    print(\"saya tidak ingin telat lagi\")"
   ]
  },
  {
   "cell_type": "code",
   "execution_count": null,
   "metadata": {},
   "outputs": [],
   "source": [
    "#end loop with numbers\n",
    "i = 0\n",
    "while i < 5:\n",
    "    i = i + 1\n",
    "    print(i)"
   ]
  },
  {
   "cell_type": "code",
   "execution_count": null,
   "metadata": {},
   "outputs": [],
   "source": [
    "#endless loops\n",
    "while True:\n",
    "    int(input(\"masukkan angka: \"))"
   ]
  },
  {
   "cell_type": "code",
   "execution_count": null,
   "metadata": {},
   "outputs": [],
   "source": [
    "#end loop with user input\n",
    "while True:\n",
    "    user_input = input(\"masukkan sebuah angka: \")\n",
    "    if user_input == \"0\":\n",
    "        print(\"program tidak berjalan karena user menginput angka nol.\")\n",
    "        break #exit the program"
   ]
  },
  {
   "cell_type": "markdown",
   "metadata": {},
   "source": [
    "10. Function"
   ]
  },
  {
   "cell_type": "code",
   "execution_count": null,
   "metadata": {},
   "outputs": [],
   "source": [
    "#untuk reuse code(nama kucing)\n",
    "def say_hello(nama_kucing):\n",
    "    print(\"meong!\", nama_kucing)\n",
    "    \n",
    "say_hello(\"komeng\")\n",
    "say_hello(\"oren\")"
   ]
  },
  {
   "cell_type": "code",
   "execution_count": null,
   "metadata": {},
   "outputs": [],
   "source": [
    "#untuk rumus matematika\n",
    "def luas_persegi_panjang():\n",
    "    panjang = float(input(\"masukkan panjang: \"))\n",
    "    lebar = float(input(\"masukkan lebar: \"))\n",
    "    luas = panjang * lebar\n",
    "    print(\"luas persegi panjang anda adalah \", luas)\n",
    "    \n",
    "luas_persegi_panjang()"
   ]
  },
  {
   "cell_type": "markdown",
   "metadata": {},
   "source": [
    "11. Passing function"
   ]
  },
  {
   "cell_type": "code",
   "execution_count": null,
   "metadata": {},
   "outputs": [],
   "source": [
    "#pass function digunakan untuk melewati fungsi\n",
    "def get_someting():\n",
    "    pass\n",
    "\n",
    "def learn():\n",
    "    pass"
   ]
  },
  {
   "cell_type": "markdown",
   "metadata": {},
   "source": [
    "12. Try and Except"
   ]
  },
  {
   "cell_type": "code",
   "execution_count": null,
   "metadata": {},
   "outputs": [],
   "source": [
    "number = input(\"ketikkan angka: \")\n",
    "\n",
    "try:\n",
    "    print(10 + int(number))\n",
    "except:\n",
    "    print(\"itu bukan angka sobat\")"
   ]
  },
  {
   "cell_type": "markdown",
   "metadata": {},
   "source": [
    "13. Boolean operators"
   ]
  },
  {
   "cell_type": "markdown",
   "metadata": {},
   "source": [
    "14. Built-in Functions"
   ]
  }
 ],
 "metadata": {
  "kernelspec": {
   "display_name": "Python 3 (ipykernel)",
   "language": "python",
   "name": "python3"
  },
  "language_info": {
   "codemirror_mode": {
    "name": "ipython",
    "version": 3
   },
   "file_extension": ".py",
   "mimetype": "text/x-python",
   "name": "python",
   "nbconvert_exporter": "python",
   "pygments_lexer": "ipython3",
   "version": "3.11.3"
  }
 },
 "nbformat": 4,
 "nbformat_minor": 2
}
