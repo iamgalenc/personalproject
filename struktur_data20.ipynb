{
 "cells": [
  {
   "cell_type": "code",
   "execution_count": 11,
   "metadata": {},
   "outputs": [
    {
     "name": "stdout",
     "output_type": "stream",
     "text": [
      "1 [ganjil]\n",
      "2 [genap]\n",
      "3 [ganjil]\n",
      "4 [genap]\n",
      "5 [ganjil]\n",
      "6 [genap]\n",
      "7 [ganjil]\n",
      "8 [genap]\n",
      "9 [ganjil]\n",
      "10 [genap]\n",
      "11 [ganjil]\n",
      "12 [genap]\n",
      "13 [ganjil]\n",
      "14 [genap]\n",
      "15 [ganjil]\n",
      "16 [genap]\n",
      "17 [ganjil]\n",
      "18 [genap]\n",
      "19 [ganjil]\n",
      "20 [genap]\n",
      "21 [ganjil]\n",
      "22 [genap]\n",
      "23 [ganjil]\n",
      "24 [genap]\n",
      "25 [ganjil]\n",
      "26 [genap]\n",
      "27 [ganjil]\n",
      "28 [genap]\n",
      "29 [ganjil]\n",
      "30 [genap]\n",
      "31 [ganjil]\n",
      "32 [genap]\n",
      "33 [ganjil]\n",
      "34 [genap]\n",
      "35 [ganjil]\n",
      "36 [genap]\n",
      "37 [ganjil]\n",
      "38 [genap]\n",
      "39 [ganjil]\n",
      "40 [genap]\n",
      "41 [ganjil]\n",
      "42 [genap]\n",
      "43 [ganjil]\n",
      "44 [genap]\n",
      "45 [ganjil]\n",
      "46 [genap]\n",
      "47 [ganjil]\n",
      "48 [genap]\n",
      "49 [ganjil]\n",
      "50 [genap]\n",
      "51 [ganjil]\n",
      "52 [genap]\n",
      "53 [ganjil]\n",
      "54 [genap]\n",
      "55 [ganjil]\n",
      "56 [genap]\n",
      "57 [ganjil]\n",
      "58 [genap]\n",
      "59 [ganjil]\n",
      "60 [genap]\n",
      "61 [ganjil]\n",
      "62 [genap]\n",
      "63 [ganjil]\n",
      "64 [genap]\n",
      "65 [ganjil]\n",
      "66 [genap]\n",
      "67 [ganjil]\n",
      "68 [genap]\n",
      "69 [ganjil]\n",
      "70 [genap]\n",
      "71 [ganjil]\n",
      "72 [genap]\n",
      "73 [ganjil]\n",
      "74 [genap]\n",
      "75 [ganjil]\n",
      "76 [genap]\n",
      "77 [ganjil]\n",
      "78 [genap]\n",
      "79 [ganjil]\n",
      "80 [genap]\n",
      "81 [ganjil]\n",
      "82 [genap]\n",
      "83 [ganjil]\n",
      "84 [genap]\n",
      "85 [ganjil]\n",
      "86 [genap]\n",
      "87 [ganjil]\n",
      "88 [genap]\n",
      "89 [ganjil]\n",
      "90 [genap]\n",
      "91 [ganjil]\n",
      "92 [genap]\n",
      "93 [ganjil]\n",
      "94 [genap]\n",
      "95 [ganjil]\n",
      "96 [genap]\n",
      "97 [ganjil]\n",
      "98 [genap]\n",
      "99 [ganjil]\n",
      "100 [genap]\n"
     ]
    }
   ],
   "source": [
    "for i in range(1,101):\n",
    "    if i%2 == 1:\n",
    "        print(i, \"[ganjil]\")\n",
    "    else:\n",
    "        print(i, \"[genap]\")"
   ]
  },
  {
   "cell_type": "code",
   "execution_count": 30,
   "metadata": {},
   "outputs": [
    {
     "name": "stdout",
     "output_type": "stream",
     "text": [
      "[1, 3, 5, 7, 9, 11, 13, 15, 17, 19, 21, 23, 25, 27, 29, 31, 33, 35, 37, 39, 41, 43, 45, 47, 49, 51, 53, 55, 57, 59, 61, 63, 65, 67, 69, 71, 73, 75, 77, 79, 81, 83, 85, 87, 89, 91, 93, 95, 97, 99]\n",
      "[2, 4, 6, 8, 10, 12, 14, 16, 18, 20, 22, 24, 26, 28, 30, 32, 34, 36, 38, 40, 42, 44, 46, 48, 50, 52, 54, 56, 58, 60, 62, 64, 66, 68, 70, 72, 74, 76, 78, 80, 82, 84, 86, 88, 90, 92, 94, 96, 98, 100]\n"
     ]
    }
   ],
   "source": [
    "angka_ganjil = [angka for angka in range(1,101) if angka % 2 ==1]\n",
    "print(angka_ganjil)\n",
    "angka_genap = [angka for angka in range(1,101) if angka%2 == 0]\n",
    "print(angka_genap)"
   ]
  },
  {
   "cell_type": "code",
   "execution_count": 22,
   "metadata": {},
   "outputs": [
    {
     "name": "stdout",
     "output_type": "stream",
     "text": [
      "[0, 1, 2, 3, 4, 5, 6, 7, 8, 9]\n",
      "1\n",
      "2\n",
      "3\n",
      "4\n",
      "5\n",
      "6\n",
      "7\n",
      "8\n",
      "9\n",
      "10\n"
     ]
    }
   ],
   "source": [
    "my_list = [a for a in range(10)]\n",
    "print(my_list)\n",
    "\n",
    "for i in range(1,11):\n",
    "    print(i)"
   ]
  }
 ],
 "metadata": {
  "kernelspec": {
   "display_name": "Python 3",
   "language": "python",
   "name": "python3"
  },
  "language_info": {
   "codemirror_mode": {
    "name": "ipython",
    "version": 3
   },
   "file_extension": ".py",
   "mimetype": "text/x-python",
   "name": "python",
   "nbconvert_exporter": "python",
   "pygments_lexer": "ipython3",
   "version": "3.11.5"
  }
 },
 "nbformat": 4,
 "nbformat_minor": 2
}
