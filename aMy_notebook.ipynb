{
 "cells": [
  {
   "cell_type": "markdown",
   "metadata": {},
   "source": [
    "# My personal Python notebook\n",
    "This is my personal python notebook"
   ]
  },
  {
   "cell_type": "markdown",
   "metadata": {},
   "source": [
    "1. Print function"
   ]
  },
  {
   "cell_type": "code",
   "execution_count": null,
   "metadata": {},
   "outputs": [],
   "source": [
    "print(\"Hello, world!\")\n",
    "print(\"-------\")\n",
    "print(\"Hello\\nWorld\")\n",
    "print(\"-------\")\n",
    "print(\"\"\"hello \n",
    "my\n",
    "world\"\"\")"
   ]
  },
  {
   "cell_type": "markdown",
   "metadata": {},
   "source": [
    "2. Variables"
   ]
  },
  {
   "cell_type": "code",
   "execution_count": null,
   "metadata": {},
   "outputs": [],
   "source": [
    "Item = \"Banana\"\n",
    "item = \"apple\"\n",
    "item_name = \"channel orange\"\n",
    "artist = \"frank ocean\"\n",
    "\n",
    "print(item, Item)\n",
    "print(\"my fav album is \" + item_name + \" by \" + artist)\n",
    "print(f'my fav album is {item_name} by {artist}')"
   ]
  },
  {
   "cell_type": "markdown",
   "metadata": {},
   "source": [
    "3. Data types"
   ]
  },
  {
   "cell_type": "code",
   "execution_count": null,
   "metadata": {},
   "outputs": [],
   "source": [
    "diskrit = 2023 #integer int()\n",
    "kontinu = 3.14 #float float()\n",
    "strings = \"tahun\" #string str()\n",
    "is_confirmed = False #boolean bool()\n",
    "album_list = [\"Blonde\", \"Channel Orange\", \"nostalgia, ULTRA\"] #list\n",
    "\n",
    "print(type(diskrit))\n",
    "print(diskrit) \n",
    "print(type(kontinu))\n",
    "print(kontinu)\n",
    "print(type(strings))\n",
    "print(strings)\n",
    "print(type(is_confirmed))\n",
    "print(is_confirmed)\n",
    "print(type(album_list))\n",
    "print(album_list)"
   ]
  },
  {
   "cell_type": "markdown",
   "metadata": {},
   "source": [
    "4. Converting data types"
   ]
  },
  {
   "cell_type": "code",
   "execution_count": null,
   "metadata": {},
   "outputs": [],
   "source": [
    "tahun_integer = 2023\n",
    "nama = \"abdul komeng\"\n",
    "angka_string = \"17\"\n",
    "angka_float = 3.25\n",
    "\n",
    "print(nama + str(tahun_integer))\n",
    "print(int(angka_string) + tahun_integer)\n",
    "print(float(angka_string) + tahun_integer + angka_float)"
   ]
  },
  {
   "cell_type": "markdown",
   "metadata": {},
   "source": [
    "5. Math"
   ]
  },
  {
   "cell_type": "code",
   "execution_count": null,
   "metadata": {},
   "outputs": [],
   "source": [
    "#Operasi matematika\n",
    "a = 10\n",
    "b = 5\n",
    "\n",
    "penjumlahan = a + b\n",
    "pengurangan = a - b\n",
    "perkalian = a * b\n",
    "pembagian = a/b\n",
    "pangkat = a**b\n",
    "\n",
    "print(penjumlahan)\n",
    "print(pengurangan)\n",
    "print(perkalian)\n",
    "print(pembagian)\n",
    "print(pangkat)\n"
   ]
  },
  {
   "cell_type": "markdown",
   "metadata": {},
   "source": [
    "6. Math comparasion in Python"
   ]
  },
  {
   "cell_type": "code",
   "execution_count": null,
   "metadata": {},
   "outputs": [],
   "source": [
    "#Komparasi matematika\n",
    "a = 10\n",
    "b = 5\n",
    "\n",
    "print(4 == b)\n",
    "print(6 != b)\n",
    "print(4 >= b)\n",
    "print(5 <= b) \n",
    "print(a > b)\n",
    "print(a < b)"
   ]
  },
  {
   "cell_type": "markdown",
   "metadata": {},
   "source": [
    "6.5. Math operator with = in Python"
   ]
  },
  {
   "cell_type": "code",
   "execution_count": null,
   "metadata": {},
   "outputs": [],
   "source": [
    "angka = 2\n",
    "angka += 3\n",
    "print(angka)\n",
    "\n",
    "angka_1 = 35\n",
    "angka_1 -= 5\n",
    "print(angka_1)\n",
    "#operator sebelum sama dengan adalah operator yang sama dengan operator matematika dasar (perkalian, pembagian, dll)\n",
    "\n"
   ]
  },
  {
   "cell_type": "markdown",
   "metadata": {},
   "source": [
    "7. Logic statement"
   ]
  },
  {
   "cell_type": "code",
   "execution_count": null,
   "metadata": {},
   "outputs": [],
   "source": [
    "age = int(input(\"masukkan umur anda: \"))\n",
    "isHappy = True\n",
    "\n",
    "if age > 16:\n",
    "    print(\"kamu sudah dewasa!\")\n",
    "elif age == 18:\n",
    "    print(\"kamu sudah mau tua\")\n",
    "else:\n",
    "    print(\"kamu masih muda\")\n",
    "    \n",
    "if isHappy:\n",
    "    print(\"kamu bahagia!\")\n",
    "else:\n",
    "    print(\"kamu kenapa tidak bahagia?\")"
   ]
  },
  {
   "cell_type": "code",
   "execution_count": null,
   "metadata": {},
   "outputs": [],
   "source": [
    "#stacked if\n",
    "age = int(input(\"masukkan umur: \"))\n",
    "is_student = True\n",
    "\n",
    "if age < 18:\n",
    "  #execute if age is less than 18\n",
    "  if is_student:\n",
    "    #execute if under 18 and also a student\n",
    "    print(\"20% discount\")\n",
    "  else:\n",
    "    #execute if under 18 and not a student\n",
    "    print(\"10% discount\")\n",
    "else:\n",
    "  #execute this code customer 18 or over\n",
    "  print(\"Regular price\")"
   ]
  },
  {
   "cell_type": "markdown",
   "metadata": {},
   "source": [
    "8. For Loops"
   ]
  },
  {
   "cell_type": "code",
   "execution_count": null,
   "metadata": {},
   "outputs": [],
   "source": [
    "#komputer selalu mengawali angka dengan nomor 0\n",
    "#jika tidak ingin memulai angka 0, maka tambahkan i + 1 pada kurung print\n",
    "#huruf i adalah counter variable agar code tidak berjalan terus menerus\n",
    "for i in range(5):\n",
    "    print(\"hello\", i)\n",
    "    print(i + 1) #counters\n",
    "\n",
    "\n",
    "#range atau jarak\n",
    "print(range(5))\n",
    "\n",
    "#loops bisa digunakan untuk list\n",
    "name_list = [\"anjay\", \"anjir\", \"ajur\"]\n",
    "for name in name_list:\n",
    "    print(name)\n"
   ]
  },
  {
   "cell_type": "code",
   "execution_count": null,
   "metadata": {},
   "outputs": [],
   "source": [
    "#mengeluarkan seluruh isi variabel string\n",
    "for x in \"halo\":\n",
    "    print(x)"
   ]
  },
  {
   "cell_type": "code",
   "execution_count": null,
   "metadata": {},
   "outputs": [],
   "source": [
    "#angka ganjil dan genap\n",
    "x = int(input(\"masukkan angka pertama\"))\n",
    "y = int(input(\"masukkan angka kedua\"))\n",
    "\n",
    "for i in range(x, y + 1):\n",
    "    if i%2: #%2 adalah genap\n",
    "        print(\"ganjil: \" + str(i))\n",
    "    else:\n",
    "        print(\"genap: \" + str(i))"
   ]
  },
  {
   "cell_type": "markdown",
   "metadata": {},
   "source": [
    "9. While loops"
   ]
  },
  {
   "cell_type": "code",
   "execution_count": null,
   "metadata": {},
   "outputs": [],
   "source": [
    "#infinity loops\n",
    "while True:\n",
    "    print(\"saya tidak ingin telat lagi\")"
   ]
  },
  {
   "cell_type": "code",
   "execution_count": null,
   "metadata": {},
   "outputs": [],
   "source": [
    "#end loop with numbers\n",
    "i = 0\n",
    "while i < 5:\n",
    "    i = i + 1\n",
    "    print(i)"
   ]
  },
  {
   "cell_type": "code",
   "execution_count": null,
   "metadata": {},
   "outputs": [],
   "source": [
    "#endless loops\n",
    "while True:\n",
    "    int(input(\"masukkan angka: \"))"
   ]
  },
  {
   "cell_type": "code",
   "execution_count": null,
   "metadata": {},
   "outputs": [],
   "source": [
    "#end loop with user input\n",
    "while True:\n",
    "    user_input = input(\"masukkan sebuah angka: \")\n",
    "    if user_input == \"0\":\n",
    "        print(\"program tidak berjalan karena user menginput angka nol.\")\n",
    "        break #exit the program"
   ]
  },
  {
   "cell_type": "code",
   "execution_count": null,
   "metadata": {},
   "outputs": [],
   "source": [
    "#while counter\n",
    "counter = 0\n",
    "while counter < 4:\n",
    "    print(counter)\n",
    "    counter = counter + 1"
   ]
  },
  {
   "cell_type": "code",
   "execution_count": null,
   "metadata": {},
   "outputs": [],
   "source": [
    "#tampilkan angka sampe angka tersebut\n",
    "angka = int(input(\"masukkan angka anda: \"))\n",
    "guess = 0\n",
    "\n",
    "while (guess != angka):\n",
    "    print(guess)\n",
    "    guess += 1\n",
    "\n",
    "print(\"angka anda: \" + str((angka)))"
   ]
  },
  {
   "cell_type": "code",
   "execution_count": null,
   "metadata": {},
   "outputs": [],
   "source": [
    "# take the number as input\n",
    "number = int(input())\n",
    "\n",
    "#use a while loop for the countdown\n",
    "while number >= 0:\n",
    "\tprint(number)\n",
    "\tnumber -= 1"
   ]
  },
  {
   "cell_type": "code",
   "execution_count": null,
   "metadata": {},
   "outputs": [],
   "source": [
    "cups = 30\n",
    "while cups > 0:\n",
    "  print(\"Sell Coffee\", cups)\n",
    "  cups  = cups - 1"
   ]
  },
  {
   "cell_type": "markdown",
   "metadata": {},
   "source": [
    "10. Function"
   ]
  },
  {
   "cell_type": "code",
   "execution_count": null,
   "metadata": {},
   "outputs": [],
   "source": [
    "#untuk reuse code(nama kucing)\n",
    "def say_hello(nama_kucing):\n",
    "    print(\"meong!\", nama_kucing)\n",
    "    \n",
    "say_hello(\"komeng\")\n",
    "say_hello(\"oren\")"
   ]
  },
  {
   "cell_type": "code",
   "execution_count": null,
   "metadata": {},
   "outputs": [],
   "source": [
    "#untuk rumus matematika\n",
    "def luas_persegi_panjang():\n",
    "    panjang = float(input(\"masukkan panjang: \"))\n",
    "    lebar = float(input(\"masukkan lebar: \"))\n",
    "    luas = panjang * lebar\n",
    "    print(\"luas persegi panjang anda adalah \", luas)\n",
    "    \n",
    "luas_persegi_panjang()"
   ]
  },
  {
   "cell_type": "code",
   "execution_count": null,
   "metadata": {},
   "outputs": [],
   "source": [
    "#taking the weight as input\n",
    "weight = int(input())\n",
    "\n",
    "#complete the function\n",
    "def shipping_cost(weight):\n",
    "    weight = weight * 5\n",
    "    print(weight)\n",
    "     \n",
    "\n",
    "#function call\n",
    "shipping_cost(weight)"
   ]
  },
  {
   "cell_type": "code",
   "execution_count": null,
   "metadata": {},
   "outputs": [],
   "source": [
    "def rect(d1, d2):\n",
    "  area = d1 * d2\n",
    "  perimeter = 2 * d1 + 2 * d2\n",
    "  price = 1000 * area\n",
    "  return area, perimeter, price\n",
    "\n",
    "rect(10,20)"
   ]
  },
  {
   "cell_type": "code",
   "execution_count": null,
   "metadata": {},
   "outputs": [],
   "source": [
    "def rect(d1, d2):\n",
    "  area = d1 * d2\n",
    "  perimeter = 2 * d1 + 2 * d2\n",
    "  return area, perimeter\n",
    "\n",
    "x, y = rect(100, 200)\n",
    "print(\"Area:\", x)\n",
    "print(\"Perimeter:\", y)"
   ]
  },
  {
   "cell_type": "code",
   "execution_count": null,
   "metadata": {},
   "outputs": [],
   "source": [
    "def is_prime(n):\n",
    "    if n <= 1:\n",
    "        return False\n",
    "    elif n <= 3:\n",
    "        return True\n",
    "    elif n % 2 == 0 or n % 3 == 0:\n",
    "        return False\n",
    "    i = 5\n",
    "    while i * i <= n:\n",
    "        if n % i == 0 or n % (i + 2) == 0:\n",
    "            return False\n",
    "        i += 6\n",
    "    return True\n",
    "\n",
    "count = 0\n",
    "num = 2\n",
    "while True:\n",
    "    if is_prime(num):\n",
    "        count += 1\n",
    "    if count == 1001:\n",
    "        break\n",
    "    num += 1\n",
    "\n",
    "print(f\"Bilangan prima ke-1001 adalah {num}\")\n"
   ]
  },
  {
   "cell_type": "code",
   "execution_count": null,
   "metadata": {},
   "outputs": [],
   "source": [
    "def set_initials(names, initial):\n",
    "  names[0] = initial\n",
    "  return(names)\n",
    "\n",
    "author_names = [\"Francis\", \"Scott\", \"Fitzgerald\"]\n",
    "author_names  \n",
    "print(author_names)"
   ]
  },
  {
   "cell_type": "code",
   "execution_count": null,
   "metadata": {},
   "outputs": [],
   "source": [
    "def greet(name=\"Guest\"):\n",
    "  print(\"Welcome\", name)\n",
    "\n",
    "greet() # Welcome Guest\n",
    "greet(\"John\") # Welcome John"
   ]
  },
  {
   "cell_type": "code",
   "execution_count": null,
   "metadata": {},
   "outputs": [],
   "source": [
    "def perkenalan(nama, asal):\n",
    "    print(f\"Perkenalkan saya {nama} dari {asal}\")\n",
    "perkenalan(\"boger\", \"meduro\")"
   ]
  },
  {
   "cell_type": "markdown",
   "metadata": {},
   "source": [
    "11. Passing function"
   ]
  },
  {
   "cell_type": "code",
   "execution_count": null,
   "metadata": {},
   "outputs": [],
   "source": [
    "#pass function digunakan untuk melewati fungsi\n",
    "def get_someting():\n",
    "    pass\n",
    "\n",
    "def learn():\n",
    "    pass"
   ]
  },
  {
   "cell_type": "markdown",
   "metadata": {},
   "source": [
    "12. Try and Except"
   ]
  },
  {
   "cell_type": "code",
   "execution_count": null,
   "metadata": {},
   "outputs": [],
   "source": [
    "number = input(\"ketikkan angka: \")\n",
    "\n",
    "try:\n",
    "    print(10 + int(number))\n",
    "except:\n",
    "    print(\"itu bukan angka sobat\")"
   ]
  },
  {
   "cell_type": "markdown",
   "metadata": {},
   "source": [
    "13. Boolean operators (AND, OR, NOT)"
   ]
  },
  {
   "cell_type": "code",
   "execution_count": null,
   "metadata": {},
   "outputs": [],
   "source": [
    "print(True and False)\n",
    "print(True or False)\n",
    "print(not True or not False)\n",
    "#in "
   ]
  },
  {
   "cell_type": "markdown",
   "metadata": {},
   "source": [
    "14. Lists functions\n",
    "- [] ordered and changeable. Duplicates OK"
   ]
  },
  {
   "cell_type": "code",
   "execution_count": null,
   "metadata": {},
   "outputs": [],
   "source": [
    "my_device_list = [\"iPhone 7 Plus\", \"Asus Zenfone 5\", \"Asus X201EV\", \"PC\"]\n",
    "my_device_list.append(\"QKZ AK6 Pro, Ikea linmon\")\n",
    "my_device_list.insert(2, \"PSP\")\n",
    "my_device_list.pop()\n",
    "device_count = len(my_device_list)\n",
    "print(f\"I have {device_count} device\")\n",
    "print(\"----------------\")\n",
    "print(f\"My Device list\\n{my_device_list}\")\n",
    "print(f\"My Laptop\\n{my_device_list[3]}\")\n",
    "print(f\"My Phone\\n{my_device_list[:2]}\")\n",
    "print(f\"My Handheld device\\n{my_device_list[2:3]}\")\n",
    "print(\"PC\" in my_device_list)"
   ]
  },
  {
   "cell_type": "code",
   "execution_count": null,
   "metadata": {},
   "outputs": [],
   "source": [
    "buah = [\"mangga\", \"apel\", \"pisang\", \"nanas\", \"jeruk\", \"pisang\", \"jeruk\"]\n",
    "\n",
    "buah[0] = \"semangka\"\n",
    "buah.append(\"stroberi\")\n",
    "buah.remove(\"pisang\")\n",
    "buah.insert(1, \"kelengkeng\")\n",
    "buah.sort()\n",
    "#buah.reverse() untuk sort reverse\n",
    "#buah.clear() untuk menghapus list\n",
    "print(buah.index(\"semangka\"))\n",
    "print(buah.count(\"jeruk\"))\n",
    "print(buah)\n",
    "print(buah[::2])"
   ]
  },
  {
   "cell_type": "code",
   "execution_count": 2,
   "metadata": {},
   "outputs": [
    {
     "data": {
      "text/plain": [
       "['Aku', 'anak', 'sains', 'data']"
      ]
     },
     "execution_count": 2,
     "metadata": {},
     "output_type": "execute_result"
    }
   ],
   "source": [
    "tes_list = \"Aku anak sains data\"\n",
    "tes_list.split()"
   ]
  },
  {
   "cell_type": "markdown",
   "metadata": {},
   "source": [
    "15. Sets\n",
    "- {} unordered and immutable, but Add/Remove OK. NO duplicates"
   ]
  },
  {
   "cell_type": "code",
   "execution_count": 3,
   "metadata": {},
   "outputs": [
    {
     "name": "stdout",
     "output_type": "stream",
     "text": [
      "{'buncis', 'sop', 'kangkung', 'bayam', 'wortel', 'pakcoy'}\n"
     ]
    }
   ],
   "source": [
    "sayur = {\"kangkung\", \"sop\", \"asem\", \"bayam\", \"pakcoy\", \"wortel\", \"wortel\"}\n",
    "sayur.add(\"buncis\")\n",
    "sayur.remove(\"asem\")\n",
    "#sayur.pop()\n",
    "print(sayur)"
   ]
  },
  {
   "cell_type": "code",
   "execution_count": null,
   "metadata": {},
   "outputs": [],
   "source": [
    "# Fitur .union()\n",
    "print(\">>> Fitur .union()\")\n",
    "parcel1 = {'Anggur','Apel','Jeruk'}\n",
    "parcel2 = {'Apel','Kiwi','Melon'}\n",
    "parcel3 = parcel1.union(parcel2)\n",
    "print(parcel1)\n",
    "print(parcel3)\n",
    "# Fitur .isdisjoint()\n",
    "print(\">>> Fitur .isdisjoint()\")\n",
    "parcel1 = {'Anggur','Apel','Jeruk'}\n",
    "parcel2 = {'Kiwi','Melon','Pisang'}\n",
    "parcel3 = {'Apel','Srikaya','Semangka'}\n",
    "parcel1_parcel2_disjoint = parcel1.isdisjoint(parcel2)\n",
    "print(parcel1_parcel2_disjoint)\n",
    "parcel1_parcel3_disjoint = parcel1.isdisjoint(parcel3)\n",
    "print(parcel1_parcel3_disjoint)\n",
    "# Fitur .issubset()\n",
    "print(\">>> Fitur .issubset()\")\n",
    "parcel_A = {'Anggur', 'Apel'}\n",
    "parcel_B = {'Durian','Semangka','Apel'}\n",
    "parcel_C = {'Anggur', 'Kiwi', 'Apel', 'Jeruk', 'Melon'}\n",
    "parcel_A_dalam_C = parcel_A.issubset(parcel_C)\n",
    "parcel_B_dalam_C = parcel_B.issubset(parcel_C)\n",
    "print(parcel_A_dalam_C)\n",
    "print(parcel_B_dalam_C)\n",
    "# Fitur .issuperset()\n",
    "print(\">>> Fitur .issuperset()\")\n",
    "parcel_C_mengandung_A = parcel_C.issuperset(parcel_A)\n",
    "parcel_C_mengandung_B = parcel_C.issuperset(parcel_B)\n",
    "print(parcel_C_mengandung_A)\n",
    "print(parcel_C_mengandung_B)\n",
    "# Fitur .intersection()\n",
    "print(\">>> Fitur .intersection()\")\n",
    "parcel_A = {'Anggur', 'Kiwi', 'Apel', 'Jeruk', 'Melon'}\n",
    "parcel_B = {'Apel', 'Jeruk', 'Semangka', 'Durian', 'Tomat'}\n",
    "parcel_C = parcel_A.intersection(parcel_B)\n",
    "print(parcel_C)\n",
    "# Fitur .difference()\n",
    "print(\">>> Fitur .difference()\")\n",
    "parcel_C = parcel_A.difference(parcel_B)\n",
    "print(parcel_C)\n",
    "# Fitur .symmetric_difference()\n",
    "print(\">>> Fitur .symmetric_difference()\")\n",
    "parcel_A = {'Anggur', 'Apel', 'Jeruk', 'Melon'}\n",
    "parcel_B = {'Apel','Jeruk','Semangka','Leci'}\n",
    "parcel_C = parcel_A.symmetric_difference(parcel_B)\n",
    "print(parcel_C)"
   ]
  },
  {
   "cell_type": "markdown",
   "metadata": {},
   "source": [
    "16. Tuples\n",
    "- () ordered and unchangeable. Duplicates OK. FASTER"
   ]
  },
  {
   "cell_type": "code",
   "execution_count": null,
   "metadata": {},
   "outputs": [],
   "source": [
    "makanan = (\"ayam geprek\", \"nasgor\", \"soto\", \"mie ayam\", \"seblak\", \"naspad\")\n",
    "print(makanan.index(\"naspad\"))\n",
    "print(makanan.count(\"nasgor\"))\n",
    "print(makanan)"
   ]
  },
  {
   "cell_type": "markdown",
   "metadata": {},
   "source": [
    "17. Dictionary\n",
    "- dictionary =  a collection of {key:value} pairs, ordered and changeable. No duplicates"
   ]
  },
  {
   "cell_type": "code",
   "execution_count": 28,
   "metadata": {},
   "outputs": [
    {
     "name": "stdout",
     "output_type": "stream",
     "text": [
      "kucing\n"
     ]
    },
    {
     "data": {
      "text/plain": [
       "{'cat': 'kucing', 'dog': 'anjing', 'horse': 'kuda'}"
      ]
     },
     "execution_count": 28,
     "metadata": {},
     "output_type": "execute_result"
    }
   ],
   "source": [
    "data = dict()\n",
    "data[\"cat\"] = \"kucing\"\n",
    "data[\"dog\"] = \"anjing\"\n",
    "data[\"horse\"] = \"kuda\"\n",
    "\n",
    "print(data[\"cat\"])\n",
    "data"
   ]
  },
  {
   "cell_type": "code",
   "execution_count": 29,
   "metadata": {},
   "outputs": [
    {
     "name": "stdout",
     "output_type": "stream",
     "text": [
      ">>> Fitur .clear()\n",
      "{}\n",
      ">>> Fitur .copy()\n",
      "{'nama': 'Aksara', 'nik': '1211011', 'pekerjaan': 'Data Analyst'}\n",
      "{'nama': 'Senja', 'nik': '1211056', 'pekerjaan': 'Data Analyst'}\n",
      ">>> Fitur .keys()\n",
      "['nama', 'nik', 'pekerjaan']\n",
      ">>> Fitur .values()\n",
      "['Aksara', '1211011', 'Data Analyst']\n",
      ">>> Fitur .update()\n",
      "{'nama': 'Aksara', 'nik': '1211011', 'pekerjaan': 'Data Analyst', 'skillset': ['Python', 'R']}\n"
     ]
    }
   ],
   "source": [
    "# Fitur .clear()\n",
    "print(\">>> Fitur .clear()\")\n",
    "info_karyawan = {'nama' : 'Aksara',\n",
    "                 'nik' : '1211011',\n",
    "                 'pekerjaan' : 'Data Analyst'}\n",
    "info_karyawan.clear()\n",
    "print(info_karyawan)\n",
    "# Fitur .copy()\n",
    "print(\">>> Fitur .copy()\")\n",
    "info_karyawan1 = {'nama' : 'Aksara',\n",
    "                  'nik' : '1211011',\n",
    "                  'pekerjaan' : 'Data Analyst'}\n",
    "info_karyawan2 = info_karyawan1.copy()\n",
    "info_karyawan2['nama'] = 'Senja'\n",
    "info_karyawan2['nik'] = '1211056'\n",
    "print(info_karyawan1)\n",
    "print(info_karyawan2)\n",
    "# Fitur .keys()\n",
    "print(\">>> Fitur .keys()\")\n",
    "info_karyawan = {'nama' : 'Aksara',\n",
    "                 'nik' : '1211011',\n",
    "                 'pekerjaan' : 'Data Analyst'}\n",
    "kunci_akses = list(info_karyawan.keys())\n",
    "print(kunci_akses)\n",
    "# Fitur .values()\n",
    "print(\">>> Fitur .values()\")\n",
    "value_dict = list(info_karyawan.values())\n",
    "print(value_dict)\n",
    "# Fitur .update()\n",
    "print(\">>> Fitur .update()\")\n",
    "info_karyawan.update({'skillset':['Python', 'R']})\n",
    "print(info_karyawan)"
   ]
  },
  {
   "cell_type": "code",
   "execution_count": null,
   "metadata": {},
   "outputs": [],
   "source": [
    "# Data keuangan\n",
    "keuangan = {\n",
    "'pengeluaran': [2, 2.5, 2.25, 2.5, 3.2, 2.5, 3.5, 4, 3],\n",
    "'pemasukan': [7.8, 7.5, 9, 7.6, 7.2, 7.5, 7, 10, 7.5]\n",
    "}\n",
    "# Perhitungan rata-rata pemasukan dan rata-rata pengeluaran\n",
    "total_pengeluaran = 0\n",
    "total_pemasukan = 0\n",
    "for biaya in keuangan['pengeluaran']: \n",
    "    total_pengeluaran += biaya\n",
    "for biaya in keuangan['pemasukan']: \n",
    "    total_pemasukan += biaya\n",
    "rata_rata_pengeluaran = total_pengeluaran / len(keuangan['pengeluaran'])\n",
    "rata_rata_pemasukan = total_pemasukan / len(keuangan['pemasukan'])\n",
    "print(rata_rata_pengeluaran) \n",
    "print(rata_rata_pemasukan)"
   ]
  }
 ],
 "metadata": {
  "kernelspec": {
   "display_name": "Python 3 (ipykernel)",
   "language": "python",
   "name": "python3"
  },
  "language_info": {
   "codemirror_mode": {
    "name": "ipython",
    "version": 3
   },
   "file_extension": ".py",
   "mimetype": "text/x-python",
   "name": "python",
   "nbconvert_exporter": "python",
   "pygments_lexer": "ipython3",
   "version": "3.11.5"
  }
 },
 "nbformat": 4,
 "nbformat_minor": 2
}
