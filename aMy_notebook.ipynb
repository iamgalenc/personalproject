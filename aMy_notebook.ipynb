{
 "cells": [
  {
   "cell_type": "markdown",
   "metadata": {},
   "source": [
    "# My personal Python notebook\n",
    "This is my personal python notebook"
   ]
  },
  {
   "cell_type": "markdown",
   "metadata": {},
   "source": [
    "1. Print function"
   ]
  },
  {
   "cell_type": "code",
   "execution_count": 1,
   "metadata": {},
   "outputs": [
    {
     "name": "stdout",
     "output_type": "stream",
     "text": [
      "Hello, world!\n",
      "-------\n",
      "Hello\n",
      "World\n",
      "-------\n",
      "hello \n",
      "my\n",
      "world\n"
     ]
    }
   ],
   "source": [
    "print(\"Hello, world!\")\n",
    "print(\"-------\")\n",
    "print(\"Hello\\nWorld\")\n",
    "print(\"-------\")\n",
    "print(\"\"\"hello \n",
    "my\n",
    "world\"\"\")"
   ]
  },
  {
   "cell_type": "markdown",
   "metadata": {},
   "source": [
    "2. Variables"
   ]
  },
  {
   "cell_type": "code",
   "execution_count": null,
   "metadata": {},
   "outputs": [],
   "source": [
    "Item = \"Banana\"\n",
    "item = \"apple\"\n",
    "item_name = \"channel orange\"\n",
    "artist = \"frank ocean\"\n",
    "\n",
    "print(item, Item)\n",
    "print(\"my fav album is \" + item_name + \" by \" + artist)\n",
    "print(f'my fav album is {item_name} by {artist}')"
   ]
  },
  {
   "cell_type": "markdown",
   "metadata": {},
   "source": [
    "3. Data types"
   ]
  },
  {
   "cell_type": "code",
   "execution_count": null,
   "metadata": {},
   "outputs": [],
   "source": [
    "diskrit = 2023 #integer int()\n",
    "kontinu = 3.14 #float float()\n",
    "strings = \"tahun\" #string str()\n",
    "is_confirmed = False #boolean bool()\n",
    "album_list = [\"Blonde\", \"Channel Orange\", \"nostalgia, ULTRA\"] #list\n",
    "\n",
    "print(type(diskrit))\n",
    "print(diskrit) \n",
    "print(type(kontinu))\n",
    "print(kontinu)\n",
    "print(type(strings))\n",
    "print(strings)\n",
    "print(type(is_confirmed))\n",
    "print(is_confirmed)\n",
    "print(type(album_list))\n",
    "print(album_list)"
   ]
  },
  {
   "cell_type": "markdown",
   "metadata": {},
   "source": [
    "4. Converting data types"
   ]
  },
  {
   "cell_type": "code",
   "execution_count": null,
   "metadata": {},
   "outputs": [],
   "source": [
    "tahun_integer = 2023\n",
    "nama = \"abdul komeng\"\n",
    "angka_string = \"17\"\n",
    "angka_float = 3.25\n",
    "\n",
    "print(nama + str(tahun_integer))\n",
    "print(int(angka_string) + tahun_integer)\n",
    "print(float(angka_string) + tahun_integer + angka_float)"
   ]
  },
  {
   "cell_type": "markdown",
   "metadata": {},
   "source": [
    "5. Math"
   ]
  },
  {
   "cell_type": "code",
   "execution_count": null,
   "metadata": {},
   "outputs": [],
   "source": [
    "#Operasi matematika\n",
    "a = 10\n",
    "b = 5\n",
    "\n",
    "penjumlahan = a + b\n",
    "pengurangan = a - b\n",
    "perkalian = a * b\n",
    "pembagian = a/b\n",
    "pangkat = a**b\n",
    "\n",
    "print(penjumlahan)\n",
    "print(pengurangan)\n",
    "print(perkalian)\n",
    "print(pembagian)\n",
    "print(pangkat)\n"
   ]
  },
  {
   "cell_type": "markdown",
   "metadata": {},
   "source": [
    "6. Math comparasion in Python"
   ]
  },
  {
   "cell_type": "code",
   "execution_count": null,
   "metadata": {},
   "outputs": [],
   "source": [
    "#Komparasi matematika\n",
    "a = 10\n",
    "b = 5\n",
    "\n",
    "print(4 == b)\n",
    "print(6 != b)\n",
    "print(4 >= b)\n",
    "print(5 <= b) \n",
    "print(a > b)\n",
    "print(a < b)"
   ]
  },
  {
   "cell_type": "markdown",
   "metadata": {},
   "source": [
    "6.5. Math operator with = in Python"
   ]
  },
  {
   "cell_type": "code",
   "execution_count": null,
   "metadata": {},
   "outputs": [],
   "source": [
    "angka = 2\n",
    "angka += 3\n",
    "print(angka)\n",
    "\n",
    "angka_1 = 35\n",
    "angka_1 -= 5\n",
    "print(angka_1)\n",
    "#operator sebelum sama dengan adalah operator yang sama dengan operator matematika dasar (perkalian, pembagian, dll)\n",
    "\n"
   ]
  },
  {
   "cell_type": "markdown",
   "metadata": {},
   "source": [
    "7. Logic statement"
   ]
  },
  {
   "cell_type": "code",
   "execution_count": null,
   "metadata": {},
   "outputs": [],
   "source": [
    "age = int(input(\"masukkan umur anda: \"))\n",
    "isHappy = True\n",
    "\n",
    "if age > 16:\n",
    "    print(\"kamu sudah dewasa!\")\n",
    "elif age == 18:\n",
    "    print(\"kamu sudah mau tua\")\n",
    "else:\n",
    "    print(\"kamu masih muda\")\n",
    "    \n",
    "if isHappy:\n",
    "    print(\"kamu bahagia!\")\n",
    "else:\n",
    "    print(\"kamu kenapa tidak bahagia?\")"
   ]
  },
  {
   "cell_type": "code",
   "execution_count": 3,
   "metadata": {},
   "outputs": [
    {
     "name": "stdout",
     "output_type": "stream",
     "text": [
      "20% discount\n"
     ]
    }
   ],
   "source": [
    "#stacked if\n",
    "age = int(input(\"masukkan umur: \"))\n",
    "is_student = True\n",
    "\n",
    "if age < 18:\n",
    "  #execute if age is less than 18\n",
    "  if is_student:\n",
    "    #execute if under 18 and also a student\n",
    "    print(\"20% discount\")\n",
    "  else:\n",
    "    #execute if under 18 and not a student\n",
    "    print(\"10% discount\")\n",
    "else:\n",
    "  #execute this code customer 18 or over\n",
    "  print(\"Regular price\")"
   ]
  },
  {
   "cell_type": "markdown",
   "metadata": {},
   "source": [
    "8. For Loops"
   ]
  },
  {
   "cell_type": "code",
   "execution_count": 4,
   "metadata": {},
   "outputs": [
    {
     "name": "stdout",
     "output_type": "stream",
     "text": [
      "hello 0\n",
      "1\n",
      "hello 1\n",
      "2\n",
      "hello 2\n",
      "3\n",
      "hello 3\n",
      "4\n",
      "hello 4\n",
      "5\n",
      "range(0, 5)\n",
      "anjay\n",
      "anjir\n",
      "ajur\n"
     ]
    }
   ],
   "source": [
    "#komputer selalu mengawali angka dengan nomor 0\n",
    "#jika tidak ingin memulai angka 0, maka tambahkan i + 1 pada kurung print\n",
    "#huruf i adalah counter variable agar code tidak berjalan terus menerus\n",
    "for i in range(5):\n",
    "    print(\"hello\", i)\n",
    "    print(i + 1) #counters\n",
    "\n",
    "\n",
    "#range atau jarak\n",
    "print(range(5))\n",
    "\n",
    "#loops bisa digunakan untuk list\n",
    "name_list = [\"anjay\", \"anjir\", \"ajur\"]\n",
    "for name in name_list:\n",
    "    print(name)\n"
   ]
  },
  {
   "cell_type": "code",
   "execution_count": null,
   "metadata": {},
   "outputs": [],
   "source": [
    "#mengeluarkan seluruh isi variabel string\n",
    "for x in \"halo\":\n",
    "    print(x)"
   ]
  },
  {
   "cell_type": "code",
   "execution_count": 2,
   "metadata": {},
   "outputs": [
    {
     "name": "stdout",
     "output_type": "stream",
     "text": [
      "genap: 2\n",
      "ganjil: 3\n",
      "genap: 4\n",
      "ganjil: 5\n",
      "genap: 6\n",
      "ganjil: 7\n",
      "genap: 8\n",
      "ganjil: 9\n",
      "genap: 10\n"
     ]
    }
   ],
   "source": [
    "#angka ganjil dan genap\n",
    "x = int(input(\"masukkan angka pertama\"))\n",
    "y = int(input(\"masukkan angka kedua\"))\n",
    "\n",
    "for i in range(x, y + 1):\n",
    "    if i%2: #%2 adalah genap\n",
    "        print(\"ganjil: \" + str(i))\n",
    "    else:\n",
    "        print(\"genap: \" + str(i))"
   ]
  },
  {
   "cell_type": "markdown",
   "metadata": {},
   "source": [
    "9. While loops"
   ]
  },
  {
   "cell_type": "code",
   "execution_count": null,
   "metadata": {},
   "outputs": [],
   "source": [
    "#infinity loops\n",
    "while True:\n",
    "    print(\"saya tidak ingin telat lagi\")"
   ]
  },
  {
   "cell_type": "code",
   "execution_count": null,
   "metadata": {},
   "outputs": [],
   "source": [
    "#end loop with numbers\n",
    "i = 0\n",
    "while i < 5:\n",
    "    i = i + 1\n",
    "    print(i)"
   ]
  },
  {
   "cell_type": "code",
   "execution_count": null,
   "metadata": {},
   "outputs": [],
   "source": [
    "#endless loops\n",
    "while True:\n",
    "    int(input(\"masukkan angka: \"))"
   ]
  },
  {
   "cell_type": "code",
   "execution_count": null,
   "metadata": {},
   "outputs": [],
   "source": [
    "#end loop with user input\n",
    "while True:\n",
    "    user_input = input(\"masukkan sebuah angka: \")\n",
    "    if user_input == \"0\":\n",
    "        print(\"program tidak berjalan karena user menginput angka nol.\")\n",
    "        break #exit the program"
   ]
  },
  {
   "cell_type": "code",
   "execution_count": null,
   "metadata": {},
   "outputs": [],
   "source": [
    "#while counter\n",
    "counter = 0\n",
    "while counter < 4:\n",
    "    print(counter)\n",
    "    counter = counter + 1"
   ]
  },
  {
   "cell_type": "code",
   "execution_count": null,
   "metadata": {},
   "outputs": [],
   "source": [
    "#tampilkan angka sampe angka tersebut\n",
    "angka = int(input(\"masukkan angka anda: \"))\n",
    "guess = 0\n",
    "\n",
    "while (guess != angka):\n",
    "    print(guess)\n",
    "    guess += 1\n",
    "\n",
    "print(\"angka anda: \" + str((angka)))"
   ]
  },
  {
   "cell_type": "code",
   "execution_count": null,
   "metadata": {},
   "outputs": [],
   "source": [
    "# take the number as input\n",
    "number = int(input())\n",
    "\n",
    "#use a while loop for the countdown\n",
    "while number >= 0:\n",
    "\tprint(number)\n",
    "\tnumber -= 1"
   ]
  },
  {
   "cell_type": "code",
   "execution_count": null,
   "metadata": {},
   "outputs": [],
   "source": [
    "cups = 30\n",
    "while cups > 0:\n",
    "  print(\"Sell Coffee\", cups)\n",
    "  cups  = cups - 1"
   ]
  },
  {
   "cell_type": "markdown",
   "metadata": {},
   "source": [
    "10. Function"
   ]
  },
  {
   "cell_type": "code",
   "execution_count": null,
   "metadata": {},
   "outputs": [],
   "source": [
    "#untuk reuse code(nama kucing)\n",
    "def say_hello(nama_kucing):\n",
    "    print(\"meong!\", nama_kucing)\n",
    "    \n",
    "say_hello(\"komeng\")\n",
    "say_hello(\"oren\")"
   ]
  },
  {
   "cell_type": "code",
   "execution_count": null,
   "metadata": {},
   "outputs": [],
   "source": [
    "#untuk rumus matematika\n",
    "def luas_persegi_panjang():\n",
    "    panjang = float(input(\"masukkan panjang: \"))\n",
    "    lebar = float(input(\"masukkan lebar: \"))\n",
    "    luas = panjang * lebar\n",
    "    print(\"luas persegi panjang anda adalah \", luas)\n",
    "    \n",
    "luas_persegi_panjang()"
   ]
  },
  {
   "cell_type": "code",
   "execution_count": 9,
   "metadata": {},
   "outputs": [
    {
     "name": "stdout",
     "output_type": "stream",
     "text": [
      "25\n"
     ]
    }
   ],
   "source": [
    "#taking the weight as input\n",
    "weight = int(input())\n",
    "\n",
    "#complete the function\n",
    "def shipping_cost(weight):\n",
    "    weight = weight * 5\n",
    "    print(weight)\n",
    "     \n",
    "\n",
    "#function call\n",
    "shipping_cost(weight)"
   ]
  },
  {
   "cell_type": "code",
   "execution_count": 11,
   "metadata": {},
   "outputs": [
    {
     "data": {
      "text/plain": [
       "(200, 60, 200000)"
      ]
     },
     "execution_count": 11,
     "metadata": {},
     "output_type": "execute_result"
    }
   ],
   "source": [
    "def rect(d1, d2):\n",
    "  area = d1 * d2\n",
    "  perimeter = 2 * d1 + 2 * d2\n",
    "  price = 1000 * area\n",
    "  return area, perimeter, price\n",
    "\n",
    "rect(10,20)"
   ]
  },
  {
   "cell_type": "code",
   "execution_count": 14,
   "metadata": {},
   "outputs": [
    {
     "name": "stdout",
     "output_type": "stream",
     "text": [
      "Area: 20000\n",
      "Perimeter: 600\n"
     ]
    }
   ],
   "source": [
    "def rect(d1, d2):\n",
    "  area = d1 * d2\n",
    "  perimeter = 2 * d1 + 2 * d2\n",
    "  return area, perimeter\n",
    "\n",
    "x, y = rect(100, 200)\n",
    "print(\"Area:\", x)\n",
    "print(\"Perimeter:\", y)"
   ]
  },
  {
   "cell_type": "code",
   "execution_count": 2,
   "metadata": {},
   "outputs": [
    {
     "name": "stdout",
     "output_type": "stream",
     "text": [
      "Bilangan prima ke-1001 adalah 7927\n"
     ]
    }
   ],
   "source": [
    "def is_prime(n):\n",
    "    if n <= 1:\n",
    "        return False\n",
    "    elif n <= 3:\n",
    "        return True\n",
    "    elif n % 2 == 0 or n % 3 == 0:\n",
    "        return False\n",
    "    i = 5\n",
    "    while i * i <= n:\n",
    "        if n % i == 0 or n % (i + 2) == 0:\n",
    "            return False\n",
    "        i += 6\n",
    "    return True\n",
    "\n",
    "count = 0\n",
    "num = 2\n",
    "while True:\n",
    "    if is_prime(num):\n",
    "        count += 1\n",
    "    if count == 1001:\n",
    "        break\n",
    "    num += 1\n",
    "\n",
    "print(f\"Bilangan prima ke-1001 adalah {num}\")\n"
   ]
  },
  {
   "cell_type": "code",
   "execution_count": null,
   "metadata": {},
   "outputs": [],
   "source": [
    "def set_initials(names, initial):\n",
    "  names[0] = initial\n",
    "  return(names)\n",
    "\n",
    "author_names = [\"Francis\", \"Scott\", \"Fitzgerald\"]\n",
    "author_names  \n",
    "print(author_names)"
   ]
  },
  {
   "cell_type": "code",
   "execution_count": null,
   "metadata": {},
   "outputs": [],
   "source": [
    "def greet(name=\"Guest\"):\n",
    "  print(\"Welcome\", name)\n",
    "\n",
    "greet() # Welcome Guest\n",
    "greet(\"John\") # Welcome John"
   ]
  },
  {
   "cell_type": "code",
   "execution_count": 1,
   "metadata": {},
   "outputs": [
    {
     "name": "stdout",
     "output_type": "stream",
     "text": [
      "Perkenalkan saya boger dari meduro\n"
     ]
    }
   ],
   "source": [
    "def perkenalan(nama, asal):\n",
    "    print(f\"Perkenalkan saya {nama} dari {asal}\")\n",
    "perkenalan(\"boger\", \"meduro\")"
   ]
  },
  {
   "cell_type": "markdown",
   "metadata": {},
   "source": [
    "11. Passing function"
   ]
  },
  {
   "cell_type": "code",
   "execution_count": null,
   "metadata": {},
   "outputs": [],
   "source": [
    "#pass function digunakan untuk melewati fungsi\n",
    "def get_someting():\n",
    "    pass\n",
    "\n",
    "def learn():\n",
    "    pass"
   ]
  },
  {
   "cell_type": "markdown",
   "metadata": {},
   "source": [
    "12. Try and Except"
   ]
  },
  {
   "cell_type": "code",
   "execution_count": null,
   "metadata": {},
   "outputs": [],
   "source": [
    "number = input(\"ketikkan angka: \")\n",
    "\n",
    "try:\n",
    "    print(10 + int(number))\n",
    "except:\n",
    "    print(\"itu bukan angka sobat\")"
   ]
  },
  {
   "cell_type": "markdown",
   "metadata": {},
   "source": [
    "13. Boolean operators (AND, OR, NOT)"
   ]
  },
  {
   "cell_type": "code",
   "execution_count": null,
   "metadata": {},
   "outputs": [],
   "source": [
    "print(True and False)\n",
    "print(True or False)\n",
    "print(not True or not False)\n",
    "#in "
   ]
  },
  {
   "cell_type": "markdown",
   "metadata": {},
   "source": [
    "14. Lists functions\n",
    "- [] ordered and changeable. Duplicates OK"
   ]
  },
  {
   "cell_type": "code",
   "execution_count": null,
   "metadata": {},
   "outputs": [],
   "source": [
    "my_device_list = [\"iPhone 7 Plus\", \"Asus Zenfone 5\", \"Asus X201EV\", \"PC\"]\n",
    "my_device_list.append(\"QKZ AK6 Pro, Ikea linmon\")\n",
    "my_device_list.insert(2, \"PSP\")\n",
    "my_device_list.pop()\n",
    "device_count = len(my_device_list)\n",
    "print(f\"I have {device_count} device\")\n",
    "print(\"----------------\")\n",
    "print(f\"My Device list\\n{my_device_list}\")\n",
    "print(f\"My Laptop\\n{my_device_list[3]}\")\n",
    "print(f\"My Phone\\n{my_device_list[:2]}\")\n",
    "print(f\"My Handheld device\\n{my_device_list[2:3]}\")\n",
    "print(\"PC\" in my_device_list)"
   ]
  },
  {
   "cell_type": "code",
   "execution_count": 3,
   "metadata": {},
   "outputs": [
    {
     "name": "stdout",
     "output_type": "stream",
     "text": [
      "6\n",
      "2\n",
      "['apel', 'jeruk', 'jeruk', 'kelengkeng', 'nanas', 'pisang', 'semangka', 'stroberi']\n",
      "['apel', 'jeruk', 'nanas', 'semangka']\n"
     ]
    }
   ],
   "source": [
    "buah = [\"mangga\", \"apel\", \"pisang\", \"nanas\", \"jeruk\", \"pisang\", \"jeruk\"]\n",
    "\n",
    "buah[0] = \"semangka\"\n",
    "buah.append(\"stroberi\")\n",
    "buah.remove(\"pisang\")\n",
    "buah.insert(1, \"kelengkeng\")\n",
    "buah.sort()\n",
    "#buah.reverse() untuk sort reverse\n",
    "#buah.clear() untuk menghapus list\n",
    "print(buah.index(\"semangka\"))\n",
    "print(buah.count(\"jeruk\"))\n",
    "print(buah)\n",
    "print(buah[::2])"
   ]
  },
  {
   "cell_type": "code",
   "execution_count": 2,
   "metadata": {},
   "outputs": [
    {
     "data": {
      "text/plain": [
       "['Aku', 'anak', 'sains', 'data']"
      ]
     },
     "execution_count": 2,
     "metadata": {},
     "output_type": "execute_result"
    }
   ],
   "source": [
    "tes_list = \"Aku anak sains data\"\n",
    "tes_list.split()"
   ]
  },
  {
   "cell_type": "markdown",
   "metadata": {},
   "source": [
    "15. Sets\n",
    "- {} unordered and immutable, but Add/Remove OK. NO duplicates"
   ]
  },
  {
   "cell_type": "code",
   "execution_count": null,
   "metadata": {},
   "outputs": [],
   "source": [
    "sayur = {\"kangkung\", \"sop\", \"asem\", \"bayam\", \"pakcoy\", \"wortel\", \"wortel\"}\n",
    "sayur.add(\"buncis\")\n",
    "sayur.remove(\"asem\")\n",
    "#sayur.pop()\n",
    "print(sayur)"
   ]
  },
  {
   "cell_type": "markdown",
   "metadata": {},
   "source": [
    "16. Tuples\n",
    "- () ordered and unchangeable. Duplicates OK. FASTER"
   ]
  },
  {
   "cell_type": "code",
   "execution_count": null,
   "metadata": {},
   "outputs": [],
   "source": [
    "makanan = (\"ayam geprek\", \"nasgor\", \"soto\", \"mie ayam\", \"seblak\", \"naspad\")\n",
    "print(makanan.index(\"naspad\"))\n",
    "print(makanan.count(\"nasgor\"))\n",
    "print(makanan)"
   ]
  },
  {
   "cell_type": "markdown",
   "metadata": {},
   "source": [
    "17. Dictionary\n",
    "- dictionary =  a collection of {key:value} pairs, ordered and changeable. No duplicates"
   ]
  },
  {
   "cell_type": "code",
   "execution_count": 1,
   "metadata": {},
   "outputs": [
    {
     "data": {
      "text/plain": [
       "{2: 'keren', 3: 'anjay'}"
      ]
     },
     "execution_count": 1,
     "metadata": {},
     "output_type": "execute_result"
    }
   ],
   "source": [
    "data = {2:\"keren\", 3:\"anjay\"}\n",
    "data"
   ]
  }
 ],
 "metadata": {
  "kernelspec": {
   "display_name": "Python 3 (ipykernel)",
   "language": "python",
   "name": "python3"
  },
  "language_info": {
   "codemirror_mode": {
    "name": "ipython",
    "version": 3
   },
   "file_extension": ".py",
   "mimetype": "text/x-python",
   "name": "python",
   "nbconvert_exporter": "python",
   "pygments_lexer": "ipython3",
   "version": "3.11.5"
  }
 },
 "nbformat": 4,
 "nbformat_minor": 2
}
