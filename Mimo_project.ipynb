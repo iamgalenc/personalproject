{
 "cells": [
  {
   "cell_type": "markdown",
   "metadata": {},
   "source": [
    "# Mimo Desktop Project"
   ]
  },
  {
   "cell_type": "markdown",
   "metadata": {},
   "source": [
    "1. Python Basics (Lunch Party Organizer)"
   ]
  },
  {
   "cell_type": "code",
   "execution_count": null,
   "metadata": {},
   "outputs": [],
   "source": [
    "menu_item = \"pizza\"\n",
    "guests = 10\n",
    "\n",
    "print(menu_item)\n",
    "print(guests)\n",
    "\n",
    "menu_item = \"biryani\"\n",
    "print(\"Updated menu item is: \"+ menu_item)\n",
    "\n",
    "biryani_per_person = 1\n",
    "biryani_needed = biryani_per_person * guests\n",
    "biryani_prepared = 10\n",
    "\n",
    "enough_biryani = biryani_prepared == biryani_needed\n",
    "print(enough_biryani)\n",
    "\n",
    "guests += 1\n",
    "biryani_per_guest = biryani_prepared/guests\n",
    "print(biryani_per_guest)"
   ]
  },
  {
   "cell_type": "markdown",
   "metadata": {},
   "source": [
    "2. Types and Comparasions (School Grades Program)"
   ]
  },
  {
   "cell_type": "code",
   "execution_count": null,
   "metadata": {},
   "outputs": [],
   "source": [
    "#student name\n",
    "student_name = \"Sam\"\n",
    "\n",
    "#student grade\n",
    "math_grade = int(88)\n",
    "science_grade = int(75)\n",
    "english_grade = int(90)\n",
    "geology_grade = int(69)\n",
    "\n",
    "#total average\n",
    "total_grade = math_grade + science_grade + english_grade + geology_grade\n",
    "\n",
    "#max grade\n",
    "max_grade = 400\n",
    "\n",
    "#percentage\n",
    "total_percentage = ((total_grade / max_grade) * 100)\n",
    "total_percentage = int(total_percentage)\n",
    "\n",
    "print(f\"Sam's total percentage is {total_percentage}%\")\n",
    "\n",
    "#did student pass?\n",
    "did_student_pass = total_percentage >= 50\n",
    "\n",
    "#sporting activities\n",
    "sporting_activities = bool(0)\n",
    "\n",
    "print(f\"Sam participated in sporting activities: {sporting_activities}\")\n",
    "\n",
    "#total percentage\n",
    "print(f\"Sam's total percentage as an integer is {total_percentage}%\")\n",
    "print(f\"Sam passed to the next semester: {did_student_pass}\")"
   ]
  },
  {
   "cell_type": "markdown",
   "metadata": {},
   "source": [
    "3. Conditional Statements (HRD Program)"
   ]
  },
  {
   "cell_type": "code",
   "execution_count": null,
   "metadata": {},
   "outputs": [],
   "source": [
    "#info\n",
    "assessment_score = 85\n",
    "location = \"Canada\"\n",
    "\n",
    "if (location == \"US\" or location == \"Canada\") and assessment_score >= 75:\n",
    " print(f\"Your assessment score is {assessment_score}/100! You're hired!\")\n",
    "elif location != \"US\" and location != \"Canada\" and assessment_score >= 75:\n",
    "  print(f\"Apologies, you are based in {location} but this role requires you to be based in the US/Canada. Would you be interested in another role?\")\n",
    "else:\n",
    "  print(f\"Thank you for your interest, we regret to inform you that we will not be moving forward with your application.\")"
   ]
  },
  {
   "cell_type": "markdown",
   "metadata": {},
   "source": [
    "4. Loops (Password Security)"
   ]
  },
  {
   "cell_type": "code",
   "execution_count": null,
   "metadata": {},
   "outputs": [],
   "source": [
    "password_length = 6\n",
    "counter = 1\n",
    "permutations = 1\n",
    "\n",
    "while counter <= password_length:\n",
    "  permutations = permutations * counter\n",
    "  counter += 1\n",
    "print(f\"The possible combination of a {password_length}-character password is: {permutations}\")\n",
    "\n",
    "attempts = 5\n",
    "max_lock = int(permutations/attempts)\n",
    "print(f\"The maximum number of times the account might be locked is {max_lock} times.\")\n",
    "\n",
    "locks = 0\n",
    "total_lock_time = 0\n",
    "lock_time_multiplier = 5\n",
    "\n",
    "for i in range(max_lock):\n",
    "  locks += 1\n",
    "  total_lock_time += locks*lock_time_multiplier\n",
    "  print(f\"Your account is locked for {lock_time_multiplier*locks} minutes\")\n",
    "\n",
    "print(f\"Assuming the hacker only got the password right with the last possible combination, your account would have been locked for {total_lock_time} minutes in total.\")"
   ]
  },
  {
   "cell_type": "markdown",
   "metadata": {},
   "source": [
    "5. Lists (Shopping List App)"
   ]
  },
  {
   "cell_type": "code",
   "execution_count": null,
   "metadata": {},
   "outputs": [],
   "source": [
    "shopping_list = [\"potato\", \"apple\", \"oil\", \"milk\", \"toilet paper\"]\n",
    "shopping_list.append(\"batteries\")\n",
    "shopping_list.insert(0, \"chocolate\")\n",
    "shopping_list[0] = \"dark chocolate\"\n",
    "shopping_list.pop()\n",
    "print(shopping_list)\n",
    "\n",
    "purchased_list = [\"dark chocolate\", \"potato\", \"apple\", \"oil\", \"toilet paper\", \"fish fingers\"]\n",
    "unavailable_items = []\n",
    "\n",
    "for item in shopping_list:\n",
    "  if item not in purchased_list:\n",
    "    unavailable_items.append(item)\n",
    "\n",
    "if len(unavailable_items) > 0:\n",
    "  print(f\"Here's a list of items on your shopping list that you did not purchase: {unavailable_items}\")\n",
    "else:\n",
    "  print(f\"Good job! You bought everything on your shopping list!\")\n",
    "\n",
    "special_items = []\n",
    "for special in purchased_list:\n",
    "  if special not in shopping_list:\n",
    "    special_items.append(special)\n",
    "\n",
    "if len(special_items) > 0:\n",
    "  print(f\"Here's a list of items you purchased but were not on your shopping list: {special_items}\")\n"
   ]
  },
  {
   "cell_type": "markdown",
   "metadata": {},
   "source": [
    "6. List Operations (Plant Growth Analysis)"
   ]
  },
  {
   "cell_type": "code",
   "execution_count": null,
   "metadata": {},
   "outputs": [],
   "source": [
    "growth = [3,1,2,4,2,3,2]\n",
    "growth.sort()\n",
    "\n",
    "smallest_growth = growth[0]\n",
    "print(f'The smallest growth in the week is: {smallest_growth}cm')\n",
    "\n",
    "biggest_growth = max(growth)\n",
    "print(f'The biggest growth in the week is: {biggest_growth}cm')\n",
    "\n",
    "average_growth = sum(growth)/len(growth)\n",
    "print(f'The average growth in the week is: {average_growth}cm')\n",
    "\n",
    "new_growth = [2,0,3,2,4,5,4]\n",
    "joined_growth = growth + new_growth\n",
    "\n",
    "joined_smallest_growth = min(joined_growth)\n",
    "print(f'The smallest growth in these 2 weeks is: {joined_smallest_growth}cm')\n",
    "joined_biggest_growth = max(joined_growth)\n",
    "print(f'The biggest growth in these 2 weeks is: {joined_biggest_growth}cm')\n",
    "joined_average_growth = sum(joined_growth)/len(joined_growth)\n",
    "print(f'The average growth in these 2 weeks is: {joined_average_growth}cm')\n",
    "\n",
    "joined_smallest_growth_count = joined_growth.count(joined_smallest_growth) \n",
    "print(f'The smallest growth happened {joined_smallest_growth_count} times in these 2 weeks')\n",
    "\n",
    "joined_biggest_growth_count = joined_growth.count(joined_biggest_growth)\n",
    "print(f'The biggest growth happened {joined_biggest_growth_count} times in these 2 weeks')"
   ]
  },
  {
   "cell_type": "markdown",
   "metadata": {},
   "source": [
    "7. String Operations (Electonics Store)"
   ]
  },
  {
   "cell_type": "code",
   "execution_count": null,
   "metadata": {},
   "outputs": [],
   "source": [
    "data = \"14inch l@ptop,699|16inch l@ptop,999|sm@rtphone,1099|t@blet,499|g@ming pc,1999\"\n",
    "\n",
    "device_list = data.split(\"|\")\n",
    "formatted_list = []\n",
    "\n",
    "for device in device_list:\n",
    "  device_info_list = device.split(\",\")\n",
    "  name = device_info_list[0]\n",
    "  price = int(device_info_list[1])\n",
    "  new_price = int(price * 1.1)\n",
    "  formatted_device = f\"Device Name: {name}, Device Price: ${price}\"\n",
    "  corrected_formatted_device = formatted_device.replace(\"@\", \"a\")\n",
    "  formatted_list.append(corrected_formatted_device)\n",
    "print(formatted_list)\n"
   ]
  },
  {
   "cell_type": "markdown",
   "metadata": {},
   "source": [
    "8. Function (Number Analyzer)"
   ]
  }
 ],
 "metadata": {
  "kernelspec": {
   "display_name": "Python 3",
   "language": "python",
   "name": "python3"
  },
  "language_info": {
   "codemirror_mode": {
    "name": "ipython",
    "version": 3
   },
   "file_extension": ".py",
   "mimetype": "text/x-python",
   "name": "python",
   "nbconvert_exporter": "python",
   "pygments_lexer": "ipython3",
   "version": "3.11.3"
  },
  "orig_nbformat": 4
 },
 "nbformat": 4,
 "nbformat_minor": 2
}
